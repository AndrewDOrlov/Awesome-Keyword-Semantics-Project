{
 "cells": [
  {
   "cell_type": "code",
   "execution_count": 1,
   "metadata": {
    "id": "kQUDEUeq39_d"
   },
   "outputs": [],
   "source": [
    "import requests as rq\n",
    "from bs4 import BeautifulSoup\n",
    "import re\n",
    "import pandas as pd\n",
    "import time"
   ]
  },
  {
   "cell_type": "code",
   "execution_count": null,
   "metadata": {},
   "outputs": [],
   "source": [
    "# 1. Сбор ссылок на новостные статьи"
   ]
  },
  {
   "cell_type": "code",
   "execution_count": 1,
   "metadata": {},
   "outputs": [
    {
     "ename": "NameError",
     "evalue": "name 'rq' is not defined",
     "output_type": "error",
     "traceback": [
      "\u001b[1;31m---------------------------------------------------------------------------\u001b[0m",
      "\u001b[1;31mNameError\u001b[0m                                 Traceback (most recent call last)",
      "File \u001b[1;32m<timed exec>:4\u001b[0m\n",
      "\u001b[1;31mNameError\u001b[0m: name 'rq' is not defined"
     ]
    }
   ],
   "source": [
    "%%time\n",
    "\n",
    "re_links=[]\n",
    "for it in range(1,11):\n",
    "    temp_url = \"https://www.securitylab.ru/news/page1_\" + str(it) + \".php\"\n",
    "    temp_page = rq.get(temp_url)\n",
    "    temp_page.encoding = \"UTF-8\"\n",
    "    soup=BeautifulSoup(temp_page.text, features = \"html.parser\")\n",
    "    for link in soup.find_all(\"a\"):\n",
    "        for i in re.findall(r\"news/\\d+\", str(link.get(\"href\"))):\n",
    "            if len(str(i)) > 1:\n",
    "                re_links.append(str(i))\n",
    "            else:\n",
    "                pass\n",
    "    time.sleep(2)\n",
    "    \n",
    "news_links=[]\n",
    "for i in re_links:\n",
    "    news_links.append(\"https://www.securitylab.ru/\"+i+\".php\")"
   ]
  },
  {
   "cell_type": "code",
   "execution_count": null,
   "metadata": {},
   "outputs": [],
   "source": [
    "#2. Сбор заголовков, тегов и текстов"
   ]
  },
  {
   "cell_type": "code",
   "execution_count": 108,
   "metadata": {
    "scrolled": false
   },
   "outputs": [
    {
     "name": "stdout",
     "output_type": "stream",
     "text": [
      "CPU times: user 1.66 s, sys: 47.7 ms, total: 1.71 s\n",
      "Wall time: 27.4 s\n"
     ]
    }
   ],
   "source": [
    "%%time\n",
    "\n",
    "texts = []\n",
    "titles = []\n",
    "subtitles = []\n",
    "tags = []\n",
    "\n",
    "for link in news_links:\n",
    "    temp_tags = []\n",
    "    temp_url = link\n",
    "    temp_page = rq.get(temp_url)\n",
    "    temp_soup = BeautifulSoup(temp_page.text, \"html.parser\")\n",
    "    titles.append(temp_soup.title.text.strip())\n",
    "    subtitles.append(temp_soup.p.text.strip())\n",
    "    for i in temp_soup.find_all(\"a\", class_ = \"tag tag-outline-primary\"):\n",
    "        temp_tags.append(i.text.strip())\n",
    "    temp_tags=list(set(temp_tags))\n",
    "    tags.append(tuple(temp_tags))\n",
    "    temp_string=\"\"\n",
    "    temp_string += temp_soup.find(\"div\", itemprop = \"description\").text.strip()\n",
    "    texts.append(temp_string)\n",
    "    time.sleep(2)"
   ]
  },
  {
   "cell_type": "code",
   "execution_count": null,
   "metadata": {},
   "outputs": [],
   "source": [
    "#3. Форматирование текста"
   ]
  },
  {
   "cell_type": "code",
   "execution_count": 109,
   "metadata": {},
   "outputs": [],
   "source": [
    "clear_texts=[]\n",
    "\n",
    "for i in texts:\n",
    "    t=re.sub(r\"(\\r\\n\\s*\\t)\",\"\",i)\n",
    "    ct=re.sub(r\"\\s{2,10}|\\r+|\\n+|\\t+\",\" \",t)\n",
    "    clear_texts.append(ct)"
   ]
  },
  {
   "cell_type": "code",
   "execution_count": null,
   "metadata": {},
   "outputs": [],
   "source": [
    "#4. Сбор датафрейма"
   ]
  },
  {
   "cell_type": "code",
   "execution_count": 110,
   "metadata": {},
   "outputs": [
    {
     "data": {
      "text/html": [
       "<div>\n",
       "<style scoped>\n",
       "    .dataframe tbody tr th:only-of-type {\n",
       "        vertical-align: middle;\n",
       "    }\n",
       "\n",
       "    .dataframe tbody tr th {\n",
       "        vertical-align: top;\n",
       "    }\n",
       "\n",
       "    .dataframe thead th {\n",
       "        text-align: right;\n",
       "    }\n",
       "</style>\n",
       "<table border=\"1\" class=\"dataframe\">\n",
       "  <thead>\n",
       "    <tr style=\"text-align: right;\">\n",
       "      <th></th>\n",
       "      <th>Title</th>\n",
       "      <th>Subtitle</th>\n",
       "      <th>Tags</th>\n",
       "      <th>Text</th>\n",
       "    </tr>\n",
       "  </thead>\n",
       "  <tbody>\n",
       "    <tr>\n",
       "      <th>https://www.securitylab.ru/news/536037.php</th>\n",
       "      <td>Неизвестное вредоносное ПО терроризирует игорн...</td>\n",
       "      <td>Новая китайская группировка использует интерпр...</td>\n",
       "      <td>(Windows, C2, Китай, боковое перемещение, RAT,...</td>\n",
       "      <td>Исследователи кибербезопасности SentinelLabs с...</td>\n",
       "    </tr>\n",
       "    <tr>\n",
       "      <th>https://www.securitylab.ru/news/536036.php</th>\n",
       "      <td>Взломанный блокчейн-мост Wormhole: Хакер начин...</td>\n",
       "      <td>Хакер, ответственный за крупный взлом блокчейн...</td>\n",
       "      <td>(кроссчейн-криптоплатформа, Wormhole, взлом, д...</td>\n",
       "      <td>Хакер, ответственный за взлом блокчейн-моста W...</td>\n",
       "    </tr>\n",
       "    <tr>\n",
       "      <th>https://www.securitylab.ru/news/536034.php</th>\n",
       "      <td>Данные китайской военной разведки утекли в сеть</td>\n",
       "      <td>Секретные документы содержат планы разведки и ...</td>\n",
       "      <td>(утечка данных, Китай, BreachForums, разведка,...</td>\n",
       "      <td>16 января китайские пользователи обнаружили, ч...</td>\n",
       "    </tr>\n",
       "    <tr>\n",
       "      <th>https://www.securitylab.ru/news/536035.php</th>\n",
       "      <td>Riot Games объявляет о крупной кибератаке, исх...</td>\n",
       "      <td>Riot Games заявила, что отложит выпуск игровых...</td>\n",
       "      <td>(кибератака, взлом, Teamfight Tactics, исходны...</td>\n",
       "      <td>Студия Riot Games опубликовала открытое письмо...</td>\n",
       "    </tr>\n",
       "    <tr>\n",
       "      <th>https://www.securitylab.ru/news/536033.php</th>\n",
       "      <td>Кремль объявил о желании вернуть в Россию квал...</td>\n",
       "      <td>Квалифицированные кадры представляют для Росси...</td>\n",
       "      <td>(Песков, IT-специалисты, квалифицированные кад...</td>\n",
       "      <td>Для того, чтобы привлечь обратно в страну уеха...</td>\n",
       "    </tr>\n",
       "    <tr>\n",
       "      <th>https://www.securitylab.ru/news/536032.php</th>\n",
       "      <td>Приглашаем принять участие в исследовании</td>\n",
       "      <td>Чем замещают и как поддерживают ИТ инфраструкт...</td>\n",
       "      <td>(ИТ инфраструктура, исследование, M1Cloud, имп...</td>\n",
       "      <td>Мы M1Cloud проводим исследование, чтобы оценит...</td>\n",
       "    </tr>\n",
       "    <tr>\n",
       "      <th>https://www.securitylab.ru/news/536031.php</th>\n",
       "      <td>Минцифры усилит контроль за ПО с открытым исхо...</td>\n",
       "      <td>Минцифры России рассматривает возможность введ...</td>\n",
       "      <td>(требования регуляторов, ПО, реестр отечествен...</td>\n",
       "      <td>Минцифры России рассматривает возможность введ...</td>\n",
       "    </tr>\n",
       "    <tr>\n",
       "      <th>https://www.securitylab.ru/news/536030.php</th>\n",
       "      <td>Microsoft планирует пресечь на корню распростр...</td>\n",
       "      <td>Новая защитная опция будет добавлена в Microso...</td>\n",
       "      <td>(XLM, Excel, Microsoft 365, полезная нагрузка,...</td>\n",
       "      <td>Microsoft работает над добавлением защиты надс...</td>\n",
       "    </tr>\n",
       "    <tr>\n",
       "      <th>https://www.securitylab.ru/news/536029.php</th>\n",
       "      <td>ChatGPT успешно сдал экзамен в медицинский вуз</td>\n",
       "      <td>Искусственный интеллект снова дал фору человеч...</td>\n",
       "      <td>(OpenAI, нейросеть, ChatGPT, искусственный инт...</td>\n",
       "      <td>Ранее мы писали , что ChatGPT успешно сдал экз...</td>\n",
       "    </tr>\n",
       "    <tr>\n",
       "      <th>https://www.securitylab.ru/news/536026.php</th>\n",
       "      <td>Apple подтвердила, что недавно обнаруженная уя...</td>\n",
       "      <td>Речь идёт об уязвимости нулевого дня в старых ...</td>\n",
       "      <td>(iPadOS, iOS, Apple, эксплойт, уязвимость нуле...</td>\n",
       "      <td>Уязвимость нулевого дня CVE-2022-42856, о кото...</td>\n",
       "    </tr>\n",
       "  </tbody>\n",
       "</table>\n",
       "</div>"
      ],
      "text/plain": [
       "                                                                                        Title  \\\n",
       "https://www.securitylab.ru/news/536037.php  Неизвестное вредоносное ПО терроризирует игорн...   \n",
       "https://www.securitylab.ru/news/536036.php  Взломанный блокчейн-мост Wormhole: Хакер начин...   \n",
       "https://www.securitylab.ru/news/536034.php    Данные китайской военной разведки утекли в сеть   \n",
       "https://www.securitylab.ru/news/536035.php  Riot Games объявляет о крупной кибератаке, исх...   \n",
       "https://www.securitylab.ru/news/536033.php  Кремль объявил о желании вернуть в Россию квал...   \n",
       "https://www.securitylab.ru/news/536032.php          Приглашаем принять участие в исследовании   \n",
       "https://www.securitylab.ru/news/536031.php  Минцифры усилит контроль за ПО с открытым исхо...   \n",
       "https://www.securitylab.ru/news/536030.php  Microsoft планирует пресечь на корню распростр...   \n",
       "https://www.securitylab.ru/news/536029.php     ChatGPT успешно сдал экзамен в медицинский вуз   \n",
       "https://www.securitylab.ru/news/536026.php  Apple подтвердила, что недавно обнаруженная уя...   \n",
       "\n",
       "                                                                                     Subtitle  \\\n",
       "https://www.securitylab.ru/news/536037.php  Новая китайская группировка использует интерпр...   \n",
       "https://www.securitylab.ru/news/536036.php  Хакер, ответственный за крупный взлом блокчейн...   \n",
       "https://www.securitylab.ru/news/536034.php  Секретные документы содержат планы разведки и ...   \n",
       "https://www.securitylab.ru/news/536035.php  Riot Games заявила, что отложит выпуск игровых...   \n",
       "https://www.securitylab.ru/news/536033.php  Квалифицированные кадры представляют для Росси...   \n",
       "https://www.securitylab.ru/news/536032.php  Чем замещают и как поддерживают ИТ инфраструкт...   \n",
       "https://www.securitylab.ru/news/536031.php  Минцифры России рассматривает возможность введ...   \n",
       "https://www.securitylab.ru/news/536030.php  Новая защитная опция будет добавлена в Microso...   \n",
       "https://www.securitylab.ru/news/536029.php  Искусственный интеллект снова дал фору человеч...   \n",
       "https://www.securitylab.ru/news/536026.php  Речь идёт об уязвимости нулевого дня в старых ...   \n",
       "\n",
       "                                                                                         Tags  \\\n",
       "https://www.securitylab.ru/news/536037.php  (Windows, C2, Китай, боковое перемещение, RAT,...   \n",
       "https://www.securitylab.ru/news/536036.php  (кроссчейн-криптоплатформа, Wormhole, взлом, д...   \n",
       "https://www.securitylab.ru/news/536034.php  (утечка данных, Китай, BreachForums, разведка,...   \n",
       "https://www.securitylab.ru/news/536035.php  (кибератака, взлом, Teamfight Tactics, исходны...   \n",
       "https://www.securitylab.ru/news/536033.php  (Песков, IT-специалисты, квалифицированные кад...   \n",
       "https://www.securitylab.ru/news/536032.php  (ИТ инфраструктура, исследование, M1Cloud, имп...   \n",
       "https://www.securitylab.ru/news/536031.php  (требования регуляторов, ПО, реестр отечествен...   \n",
       "https://www.securitylab.ru/news/536030.php  (XLM, Excel, Microsoft 365, полезная нагрузка,...   \n",
       "https://www.securitylab.ru/news/536029.php  (OpenAI, нейросеть, ChatGPT, искусственный инт...   \n",
       "https://www.securitylab.ru/news/536026.php  (iPadOS, iOS, Apple, эксплойт, уязвимость нуле...   \n",
       "\n",
       "                                                                                         Text  \n",
       "https://www.securitylab.ru/news/536037.php  Исследователи кибербезопасности SentinelLabs с...  \n",
       "https://www.securitylab.ru/news/536036.php  Хакер, ответственный за взлом блокчейн-моста W...  \n",
       "https://www.securitylab.ru/news/536034.php  16 января китайские пользователи обнаружили, ч...  \n",
       "https://www.securitylab.ru/news/536035.php  Студия Riot Games опубликовала открытое письмо...  \n",
       "https://www.securitylab.ru/news/536033.php  Для того, чтобы привлечь обратно в страну уеха...  \n",
       "https://www.securitylab.ru/news/536032.php  Мы M1Cloud проводим исследование, чтобы оценит...  \n",
       "https://www.securitylab.ru/news/536031.php  Минцифры России рассматривает возможность введ...  \n",
       "https://www.securitylab.ru/news/536030.php  Microsoft работает над добавлением защиты надс...  \n",
       "https://www.securitylab.ru/news/536029.php  Ранее мы писали , что ChatGPT успешно сдал экз...  \n",
       "https://www.securitylab.ru/news/536026.php  Уязвимость нулевого дня CVE-2022-42856, о кото...  "
      ]
     },
     "metadata": {},
     "output_type": "display_data"
    }
   ],
   "source": [
    "data_list = titles,subtitles,tags,clear_texts\n",
    "\n",
    "SecurityLab_df = pd.DataFrame(data_list, columns=news_links).T\n",
    "SecurityLab_df = SecurityLab_df.rename(columns={0:\"Title\", 1:\"Subtitle\", 2:\"Tags\", 3:\"Text\"})\n",
    "display(SecurityLab_df)"
   ]
  },
  {
   "cell_type": "code",
   "execution_count": 111,
   "metadata": {},
   "outputs": [],
   "source": [
    "SecurityLab_df.to_csv('SecurityLab.csv', encoding='utf-8') "
   ]
  }
 ],
 "metadata": {
  "colab": {
   "authorship_tag": "ABX9TyN8KS3CapNABRkb8+XX0Vpv",
   "include_colab_link": true,
   "provenance": []
  },
  "kernelspec": {
   "display_name": "Python 3 (ipykernel)",
   "language": "python",
   "name": "python3"
  },
  "language_info": {
   "codemirror_mode": {
    "name": "ipython",
    "version": 3
   },
   "file_extension": ".py",
   "mimetype": "text/x-python",
   "name": "python",
   "nbconvert_exporter": "python",
   "pygments_lexer": "ipython3",
   "version": "3.10.8"
  }
 },
 "nbformat": 4,
 "nbformat_minor": 1
}
