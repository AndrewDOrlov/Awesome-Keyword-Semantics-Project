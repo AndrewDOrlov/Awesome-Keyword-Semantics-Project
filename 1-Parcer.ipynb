{
 "cells": [
  {
   "cell_type": "markdown",
   "metadata": {
    "colab_type": "text",
    "id": "view-in-github"
   },
   "source": [
    "<a href=\"https://colab.research.google.com/github/AnnSenina/Python_for_CL/blob/main/homeworks/Hw2.ipynb\" target=\"_parent\"><img src=\"https://colab.research.google.com/assets/colab-badge.svg\" alt=\"Open In Colab\"/></a>"
   ]
  },
  {
   "cell_type": "markdown",
   "metadata": {
    "id": "YrHvu0z94BQ2"
   },
   "source": [
    "#Работа с файлами, pandas + парсинг\n",
    "Собираем корпус эко-новостей с сайта новостного издания \"Ведомости\"\n",
    "\n",
    "[По этой ссылке можно найти главную страницу](https://www.vedomosti.ru/ecology)\n",
    "\n",
    "Что нам предстоит сделать:\n",
    "\n",
    "достать все заголовки новостей в главной страницы + текст каждой новости\n",
    "\n",
    "сохранить в датафрейм с колонками \"ссылка\", \"дата\", \"заголовок\", \"текст\"\n",
    "\n",
    "сохранить датафрейм в файл\n",
    "\n",
    "положить код и получившийся файл в свой репозиторий на гитхабе"
   ]
  },
  {
   "cell_type": "code",
   "execution_count": 1,
   "metadata": {
    "id": "kQUDEUeq39_d"
   },
   "outputs": [],
   "source": [
    "import requests as rq\n",
    "from bs4 import BeautifulSoup\n",
    "import re\n",
    "import pandas as pd"
   ]
  },
  {
   "cell_type": "code",
   "execution_count": 2,
   "metadata": {
    "id": "kQUDEUeq39_d"
   },
   "outputs": [],
   "source": [
    "url = \"https://www.vedomosti.ru/ecology\"\n",
    "\n",
    "page = rq.get(url)\n",
    "page.encoding = \"utf-8\"\n",
    "\n",
    "soup = BeautifulSoup(page.text, features = \"html.parser\")"
   ]
  },
  {
   "cell_type": "code",
   "execution_count": 3,
   "metadata": {
    "scrolled": false
   },
   "outputs": [],
   "source": [
    "#print(page)\n",
    "#print(soup.prettify())\n",
    "#soup.find_all(\"a\")"
   ]
  },
  {
   "cell_type": "code",
   "execution_count": 4,
   "metadata": {},
   "outputs": [],
   "source": [
    "main_links = []\n",
    "link_parts = []\n",
    "issue_links=[]\n",
    "\n",
    "for link in soup.find_all(\"a\"):\n",
    "        main_links.append(link.get(\"href\"))\n",
    "        \n",
    "main_links=list(set(main_links))\n",
    "        \n",
    "for x in main_links:\n",
    "    if \"/ecology/release\" in x:\n",
    "        link_parts.append(x)\n",
    "\n",
    "for i in link_parts:\n",
    "    issue_links.append(\"https://www.vedomosti.ru\"+i)"
   ]
  },
  {
   "cell_type": "code",
   "execution_count": 5,
   "metadata": {
    "scrolled": true
   },
   "outputs": [],
   "source": [
    "#print(issue_links)\n",
    "#print(len(issue_links))"
   ]
  },
  {
   "cell_type": "code",
   "execution_count": 6,
   "metadata": {},
   "outputs": [],
   "source": [
    "#часть 2"
   ]
  },
  {
   "cell_type": "code",
   "execution_count": 7,
   "metadata": {},
   "outputs": [],
   "source": [
    "all_sub_links = []\n",
    "sub_link_parts = []\n",
    "sub_issue_links=[]\n",
    "\n",
    "for i in issue_links:\n",
    "    url2 = i\n",
    "    page2 = rq.get(url2)\n",
    "    page2.encoding = \"utf-8\"\n",
    "    soup2 = BeautifulSoup(page2.text, features = \"html.parser\")\n",
    "    for link in soup2.find_all(\"a\"):\n",
    "        all_sub_links.append(link.get(\"href\"))\n",
    "\n",
    "for x in all_sub_links:\n",
    "    try:\n",
    "        if \"articles\" in x or \"columns\" in x:\n",
    "            sub_link_parts.append(x)\n",
    "    except:\n",
    "        pass\n",
    "\n",
    "for i in sub_link_parts:\n",
    "    sub_issue_links.append(\"https://www.vedomosti.ru\"+i)    "
   ]
  },
  {
   "cell_type": "code",
   "execution_count": 8,
   "metadata": {},
   "outputs": [],
   "source": [
    "#print(sub_issue_links)\n",
    "#print(len(sub_issue_links))"
   ]
  },
  {
   "cell_type": "code",
   "execution_count": 9,
   "metadata": {},
   "outputs": [],
   "source": [
    "# Часть 3"
   ]
  },
  {
   "cell_type": "code",
   "execution_count": 10,
   "metadata": {},
   "outputs": [],
   "source": [
    "names=[]\n",
    "date_time=[]\n",
    "titles=[]\n",
    "subtitles=[]\n",
    "current_string=[]\n",
    "current_text=[]\n",
    "\n",
    "for i in sub_issue_links:\n",
    "    temp_text=[]\n",
    "    url3 = i\n",
    "    page3=rq.get(url3)\n",
    "    page3.encoding=\"utf-8\"\n",
    "    soup3=BeautifulSoup(page3.text, features=\"html.parser\")\n",
    "    for a in soup3.find_all(\"p\")[:-16]:\n",
    "        temp_text.append(a.text)\n",
    "    current_string = \" \".join(temp_text)\n",
    "    current_text.append(current_string)    \n",
    "    date_time.append(soup3.find_all(\"time\")[0].text)        \n",
    "    titles.append(soup3.find_all(\"h1\")[0].text)\n",
    "    subtitles.append(soup3.find_all(\"meta\")[-2].get(\"content\"))\n",
    "    names.append(soup3.find_all(\"a\")[13].text)"
   ]
  },
  {
   "cell_type": "code",
   "execution_count": 14,
   "metadata": {
    "scrolled": false
   },
   "outputs": [],
   "source": [
    "#print(date_time)\n",
    "#print(names)\n",
    "#print(titles)\n",
    "#print(subtitles)"
   ]
  },
  {
   "cell_type": "code",
   "execution_count": 15,
   "metadata": {},
   "outputs": [],
   "source": [
    "# Часть 4"
   ]
  },
  {
   "cell_type": "code",
   "execution_count": 16,
   "metadata": {},
   "outputs": [
    {
     "name": "stdout",
     "output_type": "stream",
     "text": [
      "['Марина Кочетова', 'Виктор Данилов-Данильян', 'Маргарита Парфененкова', 'Марина Кочетова', 'Маргарита Парфененкова', 'Маргарита Парфененкова', 'Марина Кочетова', 'Анна Героева', 'Ведомости.Экология ', 'Маргарита Парфененкова', 'Марина Кочетова', 'Маргарита Парфененкова', 'Петр Сапожников', 'Ведомости.Экология ', 'Михаил Крейндлин']\n"
     ]
    }
   ],
   "source": [
    "cleared_names=[]\n",
    "\n",
    "for i in names:\n",
    "        cn=re.sub(r\"(\\n\\s+)\",\"\",i)\n",
    "        cleared_names.append(cn)\n",
    "print(cleared_names)"
   ]
  },
  {
   "cell_type": "code",
   "execution_count": 17,
   "metadata": {},
   "outputs": [
    {
     "name": "stdout",
     "output_type": "stream",
     "text": [
      "['12 декабря, 10:34', '12 декабря, 09:30', '12 декабря, 10:04', '08 декабря, 12:50', '08 декабря, 12:19', '08 декабря, 11:43', '08 декабря, 11:24', '08 сентября, 11:28', '08 сентября, 11:13', '08 сентября, 10:25', '08 сентября, 09:11', '10 ноября, 11:58', '10 ноября, 11:26', '10 ноября, 11:38', '10 ноября, 11:09']\n"
     ]
    }
   ],
   "source": [
    "cleared_date_time=[]\n",
    "\n",
    "for i in date_time:\n",
    "    cdt=re.sub(r\"(\\s\\/)\",\"\",i)\n",
    "    cleared_date_time.append(cdt)\n",
    "\n",
    "print(cleared_date_time)\n",
    "\n",
    "#print(current_text)[:20]"
   ]
  },
  {
   "cell_type": "code",
   "execution_count": 18,
   "metadata": {},
   "outputs": [
    {
     "name": "stdout",
     "output_type": "stream",
     "text": [
      "['Метан – недолговечный, но коварный', 'Климатические изменения и устойчивое развитие', 'Добывающей отрасли прогнозируют диверсификацию', 'Энергетика с нулевым следом', '«Россия» станет самым мощным ледоколом в мире', 'Альтернатива «большому» атому', 'Атомная экология', 'Весной и летом 2022 г. леса в России горели меньше, чем в среднем в XXI веке', '«Мониторинг Байкала — это не академическая наука, а участь сантехника»', 'Медотходы класса А могут приравнять к офисному и бытовому мусору', 'Благотворительные продукты освободят от НДС', 'Россия теплеет вдвое быстрее, чем остальной мир', 'Запретят ли собирать кедровые орехи', '«В России отсутствует специализированная инфраструктура сбора текстильных отходов»', '«Рубка байкальского леса приведет к непоправимым последствиям для экосистемы озера»']\n"
     ]
    }
   ],
   "source": [
    "cleared_titles=[]\n",
    "\n",
    "for i in titles:\n",
    "    ct=re.sub(r\"(\\n\\s+)\",\"\",i)\n",
    "    cleared_titles.append(ct)\n",
    "\n",
    "print(cleared_titles)"
   ]
  },
  {
   "cell_type": "code",
   "execution_count": 19,
   "metadata": {},
   "outputs": [],
   "source": [
    "# Часть 5\n"
   ]
  },
  {
   "cell_type": "code",
   "execution_count": 23,
   "metadata": {},
   "outputs": [
    {
     "data": {
      "text/html": [
       "<div>\n",
       "<style scoped>\n",
       "    .dataframe tbody tr th:only-of-type {\n",
       "        vertical-align: middle;\n",
       "    }\n",
       "\n",
       "    .dataframe tbody tr th {\n",
       "        vertical-align: top;\n",
       "    }\n",
       "\n",
       "    .dataframe thead th {\n",
       "        text-align: right;\n",
       "    }\n",
       "</style>\n",
       "<table border=\"1\" class=\"dataframe\">\n",
       "  <thead>\n",
       "    <tr style=\"text-align: right;\">\n",
       "      <th></th>\n",
       "      <th>Date and time</th>\n",
       "      <th>Author</th>\n",
       "      <th>Title</th>\n",
       "      <th>Subtitle</th>\n",
       "      <th>Text</th>\n",
       "    </tr>\n",
       "  </thead>\n",
       "  <tbody>\n",
       "    <tr>\n",
       "      <th>https://www.vedomosti.ru/ecology/climate/articles/2022/12/12/954783-metan-nedolgovechnii-no-kovarnii</th>\n",
       "      <td>12 декабря, 10:34</td>\n",
       "      <td>Марина Кочетова</td>\n",
       "      <td>Метан – недолговечный, но коварный</td>\n",
       "      <td>Одна из важнейших задач в рамках стратегии уст...</td>\n",
       "      <td>Российские нефтегазовые компании активно участ...</td>\n",
       "    </tr>\n",
       "    <tr>\n",
       "      <th>https://www.vedomosti.ru/ecology/climate/columns/2022/12/12/954773-klimaticheskie-izmeneniya-i-ustoichivoe-razvitie</th>\n",
       "      <td>12 декабря, 09:30</td>\n",
       "      <td>Виктор Данилов-Данильян</td>\n",
       "      <td>Климатические изменения и устойчивое развитие</td>\n",
       "      <td>Современные климатические изменения представля...</td>\n",
       "      <td>Современные климатические изменения представля...</td>\n",
       "    </tr>\n",
       "    <tr>\n",
       "      <th>https://www.vedomosti.ru/ecology/science_and_technology/articles/2022/12/12/954778-dobivayuschei-otrasli-prognoziruyut-diversifikatsiyu</th>\n",
       "      <td>12 декабря, 10:04</td>\n",
       "      <td>Маргарита Парфененкова</td>\n",
       "      <td>Добывающей отрасли прогнозируют диверсификацию</td>\n",
       "      <td>Дружественные страны планируют наращивать сотр...</td>\n",
       "      <td>В условиях макроэкономической нестабильности и...</td>\n",
       "    </tr>\n",
       "    <tr>\n",
       "      <th>https://www.vedomosti.ru/ecology/climate/articles/2022/12/08/954315-energetika-nulevim-sledom</th>\n",
       "      <td>08 декабря, 12:50</td>\n",
       "      <td>Марина Кочетова</td>\n",
       "      <td>Энергетика с нулевым следом</td>\n",
       "      <td>Россия, занимая 2-е место среди стран Европы п...</td>\n",
       "      <td>Климатическая повестка, декарбонизация, зелена...</td>\n",
       "    </tr>\n",
       "    <tr>\n",
       "      <th>https://www.vedomosti.ru/ecology/science_and_technology/articles/2022/12/08/954309-rossiya-stanet-samim-moschnim-ledokolom-v-mire</th>\n",
       "      <td>08 декабря, 12:19</td>\n",
       "      <td>Маргарита Парфененкова</td>\n",
       "      <td>«Россия» станет самым мощным ледоколом в мире</td>\n",
       "      <td>Леонид Ирлица: «Без атомных ледоколов невозмож...</td>\n",
       "      <td>И. о. генерального директора ФГУП «Атомфлот», ...</td>\n",
       "    </tr>\n",
       "    <tr>\n",
       "      <th>https://www.vedomosti.ru/ecology/science_and_technology/articles/2022/12/08/954298-alternativa-bolshomu-atomu</th>\n",
       "      <td>08 декабря, 11:43</td>\n",
       "      <td>Маргарита Парфененкова</td>\n",
       "      <td>Альтернатива «большому» атому</td>\n",
       "      <td>АЭС малой мощности, ветроэлектростанции и сист...</td>\n",
       "      <td>Их работа не ограничивается строительством и э...</td>\n",
       "    </tr>\n",
       "    <tr>\n",
       "      <th>https://www.vedomosti.ru/ecology/protection_nature/articles/2022/12/08/954286-atomnaya-ekologiya</th>\n",
       "      <td>08 декабря, 11:24</td>\n",
       "      <td>Марина Кочетова</td>\n",
       "      <td>Атомная экология</td>\n",
       "      <td>Российские ядерщики защищают природу в обоих п...</td>\n",
       "      <td>Существует множество примеров, показывающих, ч...</td>\n",
       "    </tr>\n",
       "    <tr>\n",
       "      <th>https://www.vedomosti.ru/ecology/protection_nature/articles/2022/09/08/939891-vesnoi-i-letom-2022-g-lesa-v-rossii-goreli-menshe-chem-v-srednem-v-xxi-veke</th>\n",
       "      <td>08 сентября, 11:28</td>\n",
       "      <td>Анна Героева</td>\n",
       "      <td>Весной и летом 2022 г. леса в России горели ме...</td>\n",
       "      <td>В этом году огонь прошел 3,3 млн га леса</td>\n",
       "      <td>Пожары в Рязанской области, запах гари в Москв...</td>\n",
       "    </tr>\n",
       "    <tr>\n",
       "      <th>https://www.vedomosti.ru/ecology/protection_nature/articles/2022/09/08/939876-monitoring-baikala-eto-ne-akademicheskaya-nauka-a-uchast-santehnika</th>\n",
       "      <td>08 сентября, 11:13</td>\n",
       "      <td>Ведомости.Экология</td>\n",
       "      <td>«Мониторинг Байкала — это не академическая нау...</td>\n",
       "      <td>Руководитель научной экспедиции по экологическ...</td>\n",
       "      <td>Руководитель научной экспедиции по экологическ...</td>\n",
       "    </tr>\n",
       "    <tr>\n",
       "      <th>https://www.vedomosti.ru/ecology/regulation/articles/2022/09/08/939853-medothodi-klassa-a-mogut-priravnyat-k-ofisnomu-i-bitovomu-musoru</th>\n",
       "      <td>08 сентября, 10:25</td>\n",
       "      <td>Маргарита Парфененкова</td>\n",
       "      <td>Медотходы класса А могут приравнять к офисному...</td>\n",
       "      <td>Исторически сложившийся барьер между медицинск...</td>\n",
       "      <td>Председатель комитета Совета Федерации по агра...</td>\n",
       "    </tr>\n",
       "    <tr>\n",
       "      <th>https://www.vedomosti.ru/ecology/regulation/articles/2022/09/07/939765-blagotvoritelnie-produkti-osvobodyat-ot-nds</th>\n",
       "      <td>08 сентября, 09:11</td>\n",
       "      <td>Марина Кочетова</td>\n",
       "      <td>Благотворительные продукты освободят от НДС</td>\n",
       "      <td>По данным Росстата, количество малообеспеченны...</td>\n",
       "      <td>Их нужно обеспечить необходимыми продуктами, и...</td>\n",
       "    </tr>\n",
       "    <tr>\n",
       "      <th>https://www.vedomosti.ru/ecology/climate/articles/2022/11/10/949670-rossiya-tepleet-vdvoe-bistree-chem-ostalnoi-mir</th>\n",
       "      <td>10 ноября, 11:58</td>\n",
       "      <td>Маргарита Парфененкова</td>\n",
       "      <td>Россия теплеет вдвое быстрее, чем остальной мир</td>\n",
       "      <td>Климатические изменения происходят на всей пла...</td>\n",
       "      <td>России они касаются даже в большей степени, че...</td>\n",
       "    </tr>\n",
       "    <tr>\n",
       "      <th>https://www.vedomosti.ru/ecology/regulation/articles/2022/11/10/949661-zapretyat-li-sobirat-kedrovie-orehi</th>\n",
       "      <td>10 ноября, 11:26</td>\n",
       "      <td>Петр Сапожников</td>\n",
       "      <td>Запретят ли собирать кедровые орехи</td>\n",
       "      <td>Приморские законодатели предлагают отдать в ре...</td>\n",
       "      <td>Законодательное собрание Приморского края 26 о...</td>\n",
       "    </tr>\n",
       "    <tr>\n",
       "      <th>https://www.vedomosti.ru/ecology/protection_nature/articles/2022/11/10/949663-v-rossii-otsutstvuet-spetsializirovannaya-infrastruktura-sbora-tekstilnih-othodov</th>\n",
       "      <td>10 ноября, 11:38</td>\n",
       "      <td>Ведомости.Экология</td>\n",
       "      <td>«В России отсутствует специализированная инфра...</td>\n",
       "      <td>Георгий Петришин о том, сколько одежды отправл...</td>\n",
       "      <td>Директор по нормотворческой деятельности и кор...</td>\n",
       "    </tr>\n",
       "    <tr>\n",
       "      <th>https://www.vedomosti.ru/ecology/protection_nature/columns/2022/11/10/949648-rubka-baikalskogo-lesa-privedet-k-nepopravimim-posledstviyam-dlya-ekosistemi-ozera</th>\n",
       "      <td>10 ноября, 11:09</td>\n",
       "      <td>Михаил Крейндлин</td>\n",
       "      <td>«Рубка байкальского леса приведет к непоправим...</td>\n",
       "      <td>Ведущий руководитель программы по ООПТ «Гринпи...</td>\n",
       "      <td>В Государственной думе находится законопроект ...</td>\n",
       "    </tr>\n",
       "  </tbody>\n",
       "</table>\n",
       "</div>"
      ],
      "text/plain": [
       "                                                         Date and time  \\\n",
       "https://www.vedomosti.ru/ecology/climate/articl...   12 декабря, 10:34   \n",
       "https://www.vedomosti.ru/ecology/climate/column...   12 декабря, 09:30   \n",
       "https://www.vedomosti.ru/ecology/science_and_te...   12 декабря, 10:04   \n",
       "https://www.vedomosti.ru/ecology/climate/articl...   08 декабря, 12:50   \n",
       "https://www.vedomosti.ru/ecology/science_and_te...   08 декабря, 12:19   \n",
       "https://www.vedomosti.ru/ecology/science_and_te...   08 декабря, 11:43   \n",
       "https://www.vedomosti.ru/ecology/protection_nat...   08 декабря, 11:24   \n",
       "https://www.vedomosti.ru/ecology/protection_nat...  08 сентября, 11:28   \n",
       "https://www.vedomosti.ru/ecology/protection_nat...  08 сентября, 11:13   \n",
       "https://www.vedomosti.ru/ecology/regulation/art...  08 сентября, 10:25   \n",
       "https://www.vedomosti.ru/ecology/regulation/art...  08 сентября, 09:11   \n",
       "https://www.vedomosti.ru/ecology/climate/articl...    10 ноября, 11:58   \n",
       "https://www.vedomosti.ru/ecology/regulation/art...    10 ноября, 11:26   \n",
       "https://www.vedomosti.ru/ecology/protection_nat...    10 ноября, 11:38   \n",
       "https://www.vedomosti.ru/ecology/protection_nat...    10 ноября, 11:09   \n",
       "\n",
       "                                                                     Author  \\\n",
       "https://www.vedomosti.ru/ecology/climate/articl...          Марина Кочетова   \n",
       "https://www.vedomosti.ru/ecology/climate/column...  Виктор Данилов-Данильян   \n",
       "https://www.vedomosti.ru/ecology/science_and_te...   Маргарита Парфененкова   \n",
       "https://www.vedomosti.ru/ecology/climate/articl...          Марина Кочетова   \n",
       "https://www.vedomosti.ru/ecology/science_and_te...   Маргарита Парфененкова   \n",
       "https://www.vedomosti.ru/ecology/science_and_te...   Маргарита Парфененкова   \n",
       "https://www.vedomosti.ru/ecology/protection_nat...          Марина Кочетова   \n",
       "https://www.vedomosti.ru/ecology/protection_nat...             Анна Героева   \n",
       "https://www.vedomosti.ru/ecology/protection_nat...      Ведомости.Экология    \n",
       "https://www.vedomosti.ru/ecology/regulation/art...   Маргарита Парфененкова   \n",
       "https://www.vedomosti.ru/ecology/regulation/art...          Марина Кочетова   \n",
       "https://www.vedomosti.ru/ecology/climate/articl...   Маргарита Парфененкова   \n",
       "https://www.vedomosti.ru/ecology/regulation/art...          Петр Сапожников   \n",
       "https://www.vedomosti.ru/ecology/protection_nat...      Ведомости.Экология    \n",
       "https://www.vedomosti.ru/ecology/protection_nat...         Михаил Крейндлин   \n",
       "\n",
       "                                                                                                Title  \\\n",
       "https://www.vedomosti.ru/ecology/climate/articl...                 Метан – недолговечный, но коварный   \n",
       "https://www.vedomosti.ru/ecology/climate/column...      Климатические изменения и устойчивое развитие   \n",
       "https://www.vedomosti.ru/ecology/science_and_te...     Добывающей отрасли прогнозируют диверсификацию   \n",
       "https://www.vedomosti.ru/ecology/climate/articl...                        Энергетика с нулевым следом   \n",
       "https://www.vedomosti.ru/ecology/science_and_te...      «Россия» станет самым мощным ледоколом в мире   \n",
       "https://www.vedomosti.ru/ecology/science_and_te...                      Альтернатива «большому» атому   \n",
       "https://www.vedomosti.ru/ecology/protection_nat...                                   Атомная экология   \n",
       "https://www.vedomosti.ru/ecology/protection_nat...  Весной и летом 2022 г. леса в России горели ме...   \n",
       "https://www.vedomosti.ru/ecology/protection_nat...  «Мониторинг Байкала — это не академическая нау...   \n",
       "https://www.vedomosti.ru/ecology/regulation/art...  Медотходы класса А могут приравнять к офисному...   \n",
       "https://www.vedomosti.ru/ecology/regulation/art...        Благотворительные продукты освободят от НДС   \n",
       "https://www.vedomosti.ru/ecology/climate/articl...    Россия теплеет вдвое быстрее, чем остальной мир   \n",
       "https://www.vedomosti.ru/ecology/regulation/art...                Запретят ли собирать кедровые орехи   \n",
       "https://www.vedomosti.ru/ecology/protection_nat...  «В России отсутствует специализированная инфра...   \n",
       "https://www.vedomosti.ru/ecology/protection_nat...  «Рубка байкальского леса приведет к непоправим...   \n",
       "\n",
       "                                                                                             Subtitle  \\\n",
       "https://www.vedomosti.ru/ecology/climate/articl...  Одна из важнейших задач в рамках стратегии уст...   \n",
       "https://www.vedomosti.ru/ecology/climate/column...  Современные климатические изменения представля...   \n",
       "https://www.vedomosti.ru/ecology/science_and_te...  Дружественные страны планируют наращивать сотр...   \n",
       "https://www.vedomosti.ru/ecology/climate/articl...  Россия, занимая 2-е место среди стран Европы п...   \n",
       "https://www.vedomosti.ru/ecology/science_and_te...  Леонид Ирлица: «Без атомных ледоколов невозмож...   \n",
       "https://www.vedomosti.ru/ecology/science_and_te...  АЭС малой мощности, ветроэлектростанции и сист...   \n",
       "https://www.vedomosti.ru/ecology/protection_nat...  Российские ядерщики защищают природу в обоих п...   \n",
       "https://www.vedomosti.ru/ecology/protection_nat...           В этом году огонь прошел 3,3 млн га леса   \n",
       "https://www.vedomosti.ru/ecology/protection_nat...  Руководитель научной экспедиции по экологическ...   \n",
       "https://www.vedomosti.ru/ecology/regulation/art...  Исторически сложившийся барьер между медицинск...   \n",
       "https://www.vedomosti.ru/ecology/regulation/art...  По данным Росстата, количество малообеспеченны...   \n",
       "https://www.vedomosti.ru/ecology/climate/articl...  Климатические изменения происходят на всей пла...   \n",
       "https://www.vedomosti.ru/ecology/regulation/art...  Приморские законодатели предлагают отдать в ре...   \n",
       "https://www.vedomosti.ru/ecology/protection_nat...  Георгий Петришин о том, сколько одежды отправл...   \n",
       "https://www.vedomosti.ru/ecology/protection_nat...  Ведущий руководитель программы по ООПТ «Гринпи...   \n",
       "\n",
       "                                                                                                 Text  \n",
       "https://www.vedomosti.ru/ecology/climate/articl...  Российские нефтегазовые компании активно участ...  \n",
       "https://www.vedomosti.ru/ecology/climate/column...  Современные климатические изменения представля...  \n",
       "https://www.vedomosti.ru/ecology/science_and_te...  В условиях макроэкономической нестабильности и...  \n",
       "https://www.vedomosti.ru/ecology/climate/articl...  Климатическая повестка, декарбонизация, зелена...  \n",
       "https://www.vedomosti.ru/ecology/science_and_te...  И. о. генерального директора ФГУП «Атомфлот», ...  \n",
       "https://www.vedomosti.ru/ecology/science_and_te...  Их работа не ограничивается строительством и э...  \n",
       "https://www.vedomosti.ru/ecology/protection_nat...  Существует множество примеров, показывающих, ч...  \n",
       "https://www.vedomosti.ru/ecology/protection_nat...  Пожары в Рязанской области, запах гари в Москв...  \n",
       "https://www.vedomosti.ru/ecology/protection_nat...  Руководитель научной экспедиции по экологическ...  \n",
       "https://www.vedomosti.ru/ecology/regulation/art...  Председатель комитета Совета Федерации по агра...  \n",
       "https://www.vedomosti.ru/ecology/regulation/art...  Их нужно обеспечить необходимыми продуктами, и...  \n",
       "https://www.vedomosti.ru/ecology/climate/articl...  России они касаются даже в большей степени, че...  \n",
       "https://www.vedomosti.ru/ecology/regulation/art...  Законодательное собрание Приморского края 26 о...  \n",
       "https://www.vedomosti.ru/ecology/protection_nat...  Директор по нормотворческой деятельности и кор...  \n",
       "https://www.vedomosti.ru/ecology/protection_nat...  В Государственной думе находится законопроект ...  "
      ]
     },
     "metadata": {},
     "output_type": "display_data"
    }
   ],
   "source": [
    "data_list=cleared_date_time,cleared_names,cleared_titles,subtitles,current_text\n",
    "\n",
    "eco_df = pd.DataFrame(data_list, columns=sub_issue_links).T\n",
    "eco_df=eco_df.rename(columns={0:\"Date and time\", 1:\"Author\", 2:\"Title\", 3:\"Subtitle\", 4:\"Text\"})\n",
    "display(eco_df)"
   ]
  },
  {
   "cell_type": "code",
   "execution_count": 21,
   "metadata": {},
   "outputs": [],
   "source": [
    "# Часть 6"
   ]
  },
  {
   "cell_type": "code",
   "execution_count": 24,
   "metadata": {},
   "outputs": [],
   "source": [
    "eco_df.to_csv('Vedomosti_Eco.csv', encoding='utf-8') "
   ]
  },
  {
   "cell_type": "code",
   "execution_count": null,
   "metadata": {},
   "outputs": [],
   "source": []
  }
 ],
 "metadata": {
  "colab": {
   "authorship_tag": "ABX9TyN8KS3CapNABRkb8+XX0Vpv",
   "include_colab_link": true,
   "provenance": []
  },
  "kernelspec": {
   "display_name": "Python 3 (ipykernel)",
   "language": "python",
   "name": "python3"
  },
  "language_info": {
   "codemirror_mode": {
    "name": "ipython",
    "version": 3
   },
   "file_extension": ".py",
   "mimetype": "text/x-python",
   "name": "python",
   "nbconvert_exporter": "python",
   "pygments_lexer": "ipython3",
   "version": "3.10.8"
  }
 },
 "nbformat": 4,
 "nbformat_minor": 1
}
