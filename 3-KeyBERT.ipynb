{
 "cells": [
  {
   "cell_type": "code",
   "execution_count": null,
   "id": "9be7ae5b",
   "metadata": {},
   "outputs": [],
   "source": [
    "# initiate BERT outside of functions\n",
    "bert = KeyBERT()\n",
    "\n",
    "# KeyBERT ()\n",
    "def keybert_extractor(text):\n",
    "    \"\"\"\n",
    "    Uses KeyBERT to extract the top 5 keywords from a text\n",
    "    Arguments: text (str)\n",
    "    Returns: list of keywords (list)\n",
    "    \"\"\"\n",
    "    keywords = bert.extract_keywords(text, keyphrase_ngram_range=(3, 5), stop_words=\"english\", top_n=5)\n",
    "    results = []\n",
    "    for scored_keywords in keywords:\n",
    "        for keyword in scored_keywords:\n",
    "            if isinstance(keyword, str):\n",
    "                results.append(keyword)\n",
    "    return results "
   ]
  }
 ],
 "metadata": {
  "kernelspec": {
   "display_name": "Python 3 (ipykernel)",
   "language": "python",
   "name": "python3"
  },
  "language_info": {
   "codemirror_mode": {
    "name": "ipython",
    "version": 3
   },
   "file_extension": ".py",
   "mimetype": "text/x-python",
   "name": "python",
   "nbconvert_exporter": "python",
   "pygments_lexer": "ipython3",
   "version": "3.10.8"
  }
 },
 "nbformat": 4,
 "nbformat_minor": 5
}
