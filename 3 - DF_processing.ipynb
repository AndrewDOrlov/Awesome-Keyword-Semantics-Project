{
 "cells": [
  {
   "cell_type": "code",
   "execution_count": 1,
   "id": "e40f794a",
   "metadata": {},
   "outputs": [],
   "source": [
    "import pandas as pd\n",
    "import re"
   ]
  },
  {
   "cell_type": "code",
   "execution_count": 2,
   "id": "4beac60a",
   "metadata": {},
   "outputs": [],
   "source": [
    "#1. Загрузка датафрейма"
   ]
  },
  {
   "cell_type": "code",
   "execution_count": 25,
   "id": "180d9d2e",
   "metadata": {},
   "outputs": [],
   "source": [
    "SecurityLab = pd.read_csv(\"Secure_df_processed.csv\", encoding = \"UTF-8\", sep = \",\")\n",
    "full_texts = list(SecurityLab[\"Text\"])"
   ]
  },
  {
   "cell_type": "code",
   "execution_count": 27,
   "id": "e6470faf",
   "metadata": {
    "scrolled": false
   },
   "outputs": [
    {
     "data": {
      "text/html": [
       "<div>\n",
       "<style scoped>\n",
       "    .dataframe tbody tr th:only-of-type {\n",
       "        vertical-align: middle;\n",
       "    }\n",
       "\n",
       "    .dataframe tbody tr th {\n",
       "        vertical-align: top;\n",
       "    }\n",
       "\n",
       "    .dataframe thead th {\n",
       "        text-align: right;\n",
       "    }\n",
       "</style>\n",
       "<table border=\"1\" class=\"dataframe\">\n",
       "  <thead>\n",
       "    <tr style=\"text-align: right;\">\n",
       "      <th></th>\n",
       "      <th>Unnamed: 0</th>\n",
       "      <th>Date</th>\n",
       "      <th>Title</th>\n",
       "      <th>Subtitle</th>\n",
       "      <th>Original_tags</th>\n",
       "      <th>Topic_tag_1</th>\n",
       "      <th>Topic_tag_2</th>\n",
       "      <th>Topic_tag_3</th>\n",
       "      <th>Name_tags</th>\n",
       "      <th>Keywords</th>\n",
       "      <th>Text</th>\n",
       "    </tr>\n",
       "  </thead>\n",
       "  <tbody>\n",
       "    <tr>\n",
       "      <th>0</th>\n",
       "      <td>https://www.securitylab.ru/news/536258.php</td>\n",
       "      <td>2023-02-02</td>\n",
       "      <td>Администрация США: «В iOS должна появиться уст...</td>\n",
       "      <td>В отчете Белого дома критикуется политика мага...</td>\n",
       "      <td>Google, боковая загрузка, NTIA, Apple, Евросою...</td>\n",
       "      <td>программное_обеспечение</td>\n",
       "      <td>госрегулирование</td>\n",
       "      <td>кибербезопасность</td>\n",
       "      <td>Google, Европа, Нидерланды, Samsung, Apple, Ев...</td>\n",
       "      <td>apple, европа, приложение, store, система, and...</td>\n",
       "      <td>Корпорации Apple и Google уже давно сталкивают...</td>\n",
       "    </tr>\n",
       "    <tr>\n",
       "      <th>1</th>\n",
       "      <td>https://www.securitylab.ru/news/536256.php</td>\n",
       "      <td>2023-02-02</td>\n",
       "      <td>Северокорейские хакеры воспользовались уязвимо...</td>\n",
       "      <td>И причём тут вообще ананас?</td>\n",
       "      <td>Cisco Talos, КНДР, Северная Корея, GREASE, Dtr...</td>\n",
       "      <td>вредоносы</td>\n",
       "      <td>уязвимости</td>\n",
       "      <td>финансы_и_бизнес</td>\n",
       "      <td>Zimbra, Кндр, Kimsuky</td>\n",
       "      <td>dtrack, zimbra, сервер, pineapple, уязвимость,...</td>\n",
       "      <td>Северокорейская группировка Lazarus Group испо...</td>\n",
       "    </tr>\n",
       "  </tbody>\n",
       "</table>\n",
       "</div>"
      ],
      "text/plain": [
       "                                   Unnamed: 0        Date  \\\n",
       "0  https://www.securitylab.ru/news/536258.php  2023-02-02   \n",
       "1  https://www.securitylab.ru/news/536256.php  2023-02-02   \n",
       "\n",
       "                                               Title  \\\n",
       "0  Администрация США: «В iOS должна появиться уст...   \n",
       "1  Северокорейские хакеры воспользовались уязвимо...   \n",
       "\n",
       "                                            Subtitle  \\\n",
       "0  В отчете Белого дома критикуется политика мага...   \n",
       "1                        И причём тут вообще ананас?   \n",
       "\n",
       "                                       Original_tags              Topic_tag_1  \\\n",
       "0  Google, боковая загрузка, NTIA, Apple, Евросою...  программное_обеспечение   \n",
       "1  Cisco Talos, КНДР, Северная Корея, GREASE, Dtr...                вредоносы   \n",
       "\n",
       "        Topic_tag_2        Topic_tag_3  \\\n",
       "0  госрегулирование  кибербезопасность   \n",
       "1        уязвимости   финансы_и_бизнес   \n",
       "\n",
       "                                           Name_tags  \\\n",
       "0  Google, Европа, Нидерланды, Samsung, Apple, Ев...   \n",
       "1                              Zimbra, Кндр, Kimsuky   \n",
       "\n",
       "                                            Keywords  \\\n",
       "0  apple, европа, приложение, store, система, and...   \n",
       "1  dtrack, zimbra, сервер, pineapple, уязвимость,...   \n",
       "\n",
       "                                                Text  \n",
       "0  Корпорации Apple и Google уже давно сталкивают...  \n",
       "1  Северокорейская группировка Lazarus Group испо...  "
      ]
     },
     "metadata": {},
     "output_type": "display_data"
    }
   ],
   "source": [
    "display(SecurityLab[:2])"
   ]
  },
  {
   "cell_type": "code",
   "execution_count": 112,
   "id": "0b3e8564",
   "metadata": {},
   "outputs": [],
   "source": [
    "topic_tag_1 = []\n",
    "topic_tag_2 = []\n",
    "topic_tag_3 = []"
   ]
  },
  {
   "cell_type": "code",
   "execution_count": 113,
   "id": "5acc1f08",
   "metadata": {},
   "outputs": [],
   "source": [
    "for i in SecurityLab[\"Topic_tag_1\"]:\n",
    "    if isinstance(i, str) == True:\n",
    "        temp = re.sub(r\"\\s\",\"_\", i)\n",
    "        topic_tag_1.append(temp)\n",
    "    else:\n",
    "        topic_tag_1.append(\"\")"
   ]
  },
  {
   "cell_type": "code",
   "execution_count": 114,
   "id": "31ef78eb",
   "metadata": {},
   "outputs": [],
   "source": [
    "for i in SecurityLab[\"Topic_tag_2\"]:\n",
    "    if isinstance(i, str) == True:\n",
    "        temp = re.sub(r\"\\s\",\"_\", i)\n",
    "        topic_tag_2.append(temp)\n",
    "    else:\n",
    "        topic_tag_2.append(\"\")"
   ]
  },
  {
   "cell_type": "code",
   "execution_count": 115,
   "id": "c357aba3",
   "metadata": {},
   "outputs": [],
   "source": [
    "for i in SecurityLab[\"Topic_tag_3\"]:\n",
    "    if isinstance(i, str) == True:\n",
    "        temp = re.sub(r\"\\s\",\"_\", i)\n",
    "        topic_tag_3.append(temp)\n",
    "    else:\n",
    "        topic_tag_3.append(\"\")"
   ]
  },
  {
   "cell_type": "code",
   "execution_count": 116,
   "id": "ecccc884",
   "metadata": {},
   "outputs": [],
   "source": [
    "news_links = list(SecurityLab[\"Unnamed: 0\"])\n",
    "dates = list(SecurityLab[\"Date\"])\n",
    "titles = list(SecurityLab[\"Title\"])\n",
    "subtitles = list(SecurityLab[\"Subtitle\"])\n",
    "original_tags = list(SecurityLab[\"Original_tags\"])\n",
    "name_tags = list(SecurityLab[\"Name_tags\"])\n",
    "keywords = SecurityLab[\"Keywords\"]\n",
    "texts = list(SecurityLab[\"Text\"])"
   ]
  },
  {
   "cell_type": "code",
   "execution_count": 117,
   "id": "4c2ee8e6",
   "metadata": {},
   "outputs": [],
   "source": [
    "data_list = dates, titles, subtitles, original_tags, topic_tag_1, topic_tag_2, topic_tag_3, name_tags, keywords, texts\n",
    "SecurityLab_df = pd.DataFrame(data_list, columns = news_links).T\n",
    "SecurityLab_df = SecurityLab_df.rename(columns={0:\"Date\", 1: \"Title\", 2:\"Subtitle\", 3:\"Original_tags\", 4:\"Topic_tag_1\", 5:\"Topic_tag_2\", 6:\"Topic_tag_3\", 7:\"Name_tags\", 8:\"Keywords\", 9:\"Text\"})\n",
    "SecurityLab_df.to_csv(\"Secure_df_processed.csv\", encoding=\"utf-8\")"
   ]
  },
  {
   "cell_type": "code",
   "execution_count": null,
   "id": "8c8acfef",
   "metadata": {},
   "outputs": [],
   "source": []
  }
 ],
 "metadata": {
  "kernelspec": {
   "display_name": "Python 3 (ipykernel)",
   "language": "python",
   "name": "python3"
  },
  "language_info": {
   "codemirror_mode": {
    "name": "ipython",
    "version": 3
   },
   "file_extension": ".py",
   "mimetype": "text/x-python",
   "name": "python",
   "nbconvert_exporter": "python",
   "pygments_lexer": "ipython3",
   "version": "3.10.8"
  }
 },
 "nbformat": 4,
 "nbformat_minor": 5
}
